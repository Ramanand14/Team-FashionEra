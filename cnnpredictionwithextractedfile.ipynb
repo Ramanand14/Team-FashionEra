{
 "cells": [
  {
   "cell_type": "code",
   "execution_count": 3,
   "id": "7085160a",
   "metadata": {
    "scrolled": true
   },
   "outputs": [],
   "source": [
    "from tensorflow.keras.models import load_model\n",
    "from tensorflow.keras.preprocessing import image"
   ]
  },
  {
   "cell_type": "code",
   "execution_count": 4,
   "id": "526e412a",
   "metadata": {},
   "outputs": [],
   "source": [
    "model = load_model(\"color_1.h5\")"
   ]
  },
  {
   "cell_type": "code",
   "execution_count": 5,
   "id": "5cc36b28",
   "metadata": {},
   "outputs": [],
   "source": [
    "img = image.load_img(\"teen.jpg\", target_size = (64, 64))"
   ]
  },
  {
   "cell_type": "code",
   "execution_count": 6,
   "id": "c5121c70",
   "metadata": {},
   "outputs": [],
   "source": [
    "import numpy as np\n",
    "x = image.img_to_array(img)\n",
    "x = np.expand_dims(x, axis = 0)"
   ]
  },
  {
   "cell_type": "code",
   "execution_count": 14,
   "id": "bdb0c73f",
   "metadata": {},
   "outputs": [],
   "source": [
    "pred = model.predict(x)>0.5"
   ]
  },
  {
   "cell_type": "code",
   "execution_count": 15,
   "id": "ef3a115f",
   "metadata": {},
   "outputs": [
    {
     "data": {
      "text/plain": [
       "array([False, False,  True])"
      ]
     },
     "execution_count": 15,
     "metadata": {},
     "output_type": "execute_result"
    }
   ],
   "source": [
    "pred[0]"
   ]
  },
  {
   "cell_type": "code",
   "execution_count": null,
   "id": "1f5ccfac",
   "metadata": {},
   "outputs": [],
   "source": []
  },
  {
   "cell_type": "code",
   "execution_count": 9,
   "id": "c0356c42",
   "metadata": {},
   "outputs": [],
   "source": [
    "index = ['Type-I', 'Type-II', 'Type-III']"
   ]
  },
  {
   "cell_type": "code",
   "execution_count": 10,
   "id": "857947b0",
   "metadata": {},
   "outputs": [
    {
     "name": "stdout",
     "output_type": "stream",
     "text": [
      "Type-III\n"
     ]
    }
   ],
   "source": [
    "a = index[pred[0]]\n",
    "print(a)"
   ]
  }
 ],
 "metadata": {
  "kernelspec": {
   "display_name": "Python 3",
   "language": "python",
   "name": "python3"
  },
  "language_info": {
   "codemirror_mode": {
    "name": "ipython",
    "version": 3
   },
   "file_extension": ".py",
   "mimetype": "text/x-python",
   "name": "python",
   "nbconvert_exporter": "python",
   "pygments_lexer": "ipython3",
   "version": "3.8.8"
  }
 },
 "nbformat": 4,
 "nbformat_minor": 5
}
