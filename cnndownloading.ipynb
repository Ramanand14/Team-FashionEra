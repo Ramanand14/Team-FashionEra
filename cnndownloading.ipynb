{
 "cells": [
  {
   "cell_type": "code",
   "execution_count": 4,
   "id": "9affc8ad",
   "metadata": {},
   "outputs": [
    {
     "name": "stdout",
     "output_type": "stream",
     "text": [
      "Requirement already satisfied: watson-machine-learning-client in c:\\users\\ramanand\\anaconda3\\lib\\site-packages (1.0.391)\n",
      "Requirement already satisfied: requests in c:\\users\\ramanand\\anaconda3\\lib\\site-packages (from watson-machine-learning-client) (2.25.1)\n",
      "Requirement already satisfied: pandas in c:\\users\\ramanand\\anaconda3\\lib\\site-packages (from watson-machine-learning-client) (1.2.4)\n",
      "Requirement already satisfied: certifi in c:\\users\\ramanand\\anaconda3\\lib\\site-packages (from watson-machine-learning-client) (2020.12.5)\n",
      "Requirement already satisfied: tqdm in c:\\users\\ramanand\\anaconda3\\lib\\site-packages (from watson-machine-learning-client) (4.59.0)\n",
      "Requirement already satisfied: ibm-cos-sdk in c:\\users\\ramanand\\anaconda3\\lib\\site-packages (from watson-machine-learning-client) (2.10.0)\n",
      "Requirement already satisfied: urllib3 in c:\\users\\ramanand\\anaconda3\\lib\\site-packages (from watson-machine-learning-client) (1.26.4)\n",
      "Requirement already satisfied: lomond in c:\\users\\ramanand\\anaconda3\\lib\\site-packages (from watson-machine-learning-client) (0.3.3)\n",
      "Requirement already satisfied: tabulate in c:\\users\\ramanand\\anaconda3\\lib\\site-packages (from watson-machine-learning-client) (0.8.9)\n",
      "Requirement already satisfied: boto3 in c:\\users\\ramanand\\anaconda3\\lib\\site-packages (from watson-machine-learning-client) (1.18.1)\n",
      "Requirement already satisfied: s3transfer<0.6.0,>=0.5.0 in c:\\users\\ramanand\\anaconda3\\lib\\site-packages (from boto3->watson-machine-learning-client) (0.5.0)\n",
      "Requirement already satisfied: botocore<1.22.0,>=1.21.1 in c:\\users\\ramanand\\anaconda3\\lib\\site-packages (from boto3->watson-machine-learning-client) (1.21.1)\n",
      "Requirement already satisfied: jmespath<1.0.0,>=0.7.1 in c:\\users\\ramanand\\anaconda3\\lib\\site-packages (from boto3->watson-machine-learning-client) (0.10.0)\n",
      "Requirement already satisfied: python-dateutil<3.0.0,>=2.1 in c:\\users\\ramanand\\anaconda3\\lib\\site-packages (from botocore<1.22.0,>=1.21.1->boto3->watson-machine-learning-client) (2.8.1)\n",
      "Requirement already satisfied: six>=1.5 in c:\\users\\ramanand\\anaconda3\\lib\\site-packages (from python-dateutil<3.0.0,>=2.1->botocore<1.22.0,>=1.21.1->boto3->watson-machine-learning-client) (1.15.0)\n",
      "Requirement already satisfied: ibm-cos-sdk-core==2.10.0 in c:\\users\\ramanand\\anaconda3\\lib\\site-packages (from ibm-cos-sdk->watson-machine-learning-client) (2.10.0)\n",
      "Requirement already satisfied: ibm-cos-sdk-s3transfer==2.10.0 in c:\\users\\ramanand\\anaconda3\\lib\\site-packages (from ibm-cos-sdk->watson-machine-learning-client) (2.10.0)\n",
      "Requirement already satisfied: idna<3,>=2.5 in c:\\users\\ramanand\\anaconda3\\lib\\site-packages (from requests->watson-machine-learning-client) (2.10)\n",
      "Requirement already satisfied: chardet<5,>=3.0.2 in c:\\users\\ramanand\\anaconda3\\lib\\site-packages (from requests->watson-machine-learning-client) (4.0.0)\n",
      "Requirement already satisfied: numpy>=1.16.5 in c:\\users\\ramanand\\anaconda3\\lib\\site-packages (from pandas->watson-machine-learning-client) (1.20.1)\n",
      "Requirement already satisfied: pytz>=2017.3 in c:\\users\\ramanand\\anaconda3\\lib\\site-packages (from pandas->watson-machine-learning-client) (2021.1)\n"
     ]
    }
   ],
   "source": [
    "!pip install watson-machine-learning-client"
   ]
  },
  {
   "cell_type": "code",
   "execution_count": 8,
   "id": "7274fd05",
   "metadata": {},
   "outputs": [],
   "source": [
    "from ibm_watson_machine_learning import APIClient\n",
    "wml_credentials = {\n",
    "                    \"url\": \"https://us-south.ml.cloud.ibm.com\",\n",
    "                    \"apikey\": \"vHHPjwBNgRmsOG-gfJ4JYp4xFjILM3_KbdC2XjbbKNBp\"\n",
    "                }\n",
    "\n",
    "client = APIClient(wml_credentials)"
   ]
  },
  {
   "cell_type": "code",
   "execution_count": 9,
   "id": "ff892c29",
   "metadata": {},
   "outputs": [],
   "source": [
    "client = APIClient(wml_credentials)"
   ]
  },
  {
   "cell_type": "code",
   "execution_count": 10,
   "id": "e24ddeda",
   "metadata": {},
   "outputs": [],
   "source": [
    "def guid_from_space_name(client, space_name):\n",
    "    space = client.spaces.get_details()\n",
    "    #print(space)\n",
    "    return(next(item for item in space['resources'] if item['entity'][\"name\"] == space_name)['metadata']['id'])"
   ]
  },
  {
   "cell_type": "code",
   "execution_count": 11,
   "id": "1ea58db5",
   "metadata": {},
   "outputs": [
    {
     "name": "stdout",
     "output_type": "stream",
     "text": [
      "Space UID = 0a00f3ea-660e-4a8e-81b2-5ed65aa14c0b\n"
     ]
    }
   ],
   "source": [
    "space_uid = guid_from_space_name(client, 'colorindentification')\n",
    "print(\"Space UID = \" + space_uid)"
   ]
  },
  {
   "cell_type": "code",
   "execution_count": 12,
   "id": "ab9fd85d",
   "metadata": {},
   "outputs": [
    {
     "data": {
      "text/plain": [
       "'SUCCESS'"
      ]
     },
     "execution_count": 12,
     "metadata": {},
     "output_type": "execute_result"
    }
   ],
   "source": [
    "client.set.default_space(space_uid)"
   ]
  },
  {
   "cell_type": "code",
   "execution_count": 14,
   "id": "cab85afb",
   "metadata": {},
   "outputs": [
    {
     "name": "stdout",
     "output_type": "stream",
     "text": [
      "Successfully saved model content to file: 'fashio.tar.gz'\n"
     ]
    },
    {
     "data": {
      "text/plain": [
       "'C:\\\\IBM Hack Challenge/fashio.tar.gz'"
      ]
     },
     "execution_count": 14,
     "metadata": {},
     "output_type": "execute_result"
    }
   ],
   "source": [
    "client.repository.download(\"9e634f21-7254-4023-a5df-bb3d96f72616\", \"fashio.tar.gz\")"
   ]
  }
 ],
 "metadata": {
  "kernelspec": {
   "display_name": "Python 3",
   "language": "python",
   "name": "python3"
  },
  "language_info": {
   "codemirror_mode": {
    "name": "ipython",
    "version": 3
   },
   "file_extension": ".py",
   "mimetype": "text/x-python",
   "name": "python",
   "nbconvert_exporter": "python",
   "pygments_lexer": "ipython3",
   "version": "3.8.8"
  }
 },
 "nbformat": 4,
 "nbformat_minor": 5
}
